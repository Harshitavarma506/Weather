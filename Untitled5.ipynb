{
  "nbformat": 4,
  "nbformat_minor": 0,
  "metadata": {
    "colab": {
      "provenance": [],
      "authorship_tag": "ABX9TyMyGy4o6J5DWQ+otBTyTyz3",
      "include_colab_link": true
    },
    "kernelspec": {
      "name": "python3",
      "display_name": "Python 3"
    },
    "language_info": {
      "name": "python"
    }
  },
  "cells": [
    {
      "cell_type": "markdown",
      "metadata": {
        "id": "view-in-github",
        "colab_type": "text"
      },
      "source": [
        "<a href=\"https://colab.research.google.com/github/Harshitavarma506/Weather/blob/main/Untitled5.ipynb\" target=\"_parent\"><img src=\"https://colab.research.google.com/assets/colab-badge.svg\" alt=\"Open In Colab\"/></a>"
      ]
    },
    {
      "cell_type": "code",
      "execution_count": 1,
      "metadata": {
        "colab": {
          "base_uri": "https://localhost:8080/"
        },
        "id": "nCZprcsDzeki",
        "outputId": "908d4a0f-74c7-4688-f74e-2a1ff18f204c"
      },
      "outputs": [
        {
          "output_type": "stream",
          "name": "stdout",
          "text": [
            "Weather model result: 193.0\n"
          ]
        }
      ],
      "source": [
        "def quadratic_weather_model(temp, humidity, wind_speed):\n",
        "    # Example quadratic model\n",
        "    return 0.01 * temp**2 + 0.05 * humidity**2 + 0.03 * wind_speed**2\n",
        "\n",
        "# Hardcoded variables\n",
        "temperature = 25  # in degrees Celsius\n",
        "humidity = 60     # in percentage\n",
        "wind_speed = 15   # in km/h\n",
        "\n",
        "# Calculate result using the quadratic model\n",
        "result = quadratic_weather_model(temperature, humidity, wind_speed)\n",
        "print(f\"Weather model result: {result}\")\n"
      ]
    },
    {
      "cell_type": "code",
      "source": [
        "def quadratic_weather_model(temp, humidity, wind_speed):\n",
        "    # Example quadratic model\n",
        "    return 0.01 * temp**2 + 0.05 * humidity**2 + 0.03 * wind_speed**2\n",
        "\n",
        "# Accepting user input\n",
        "temperature = float(input(\"Enter temperature (°C): \"))\n",
        "humidity = float(input(\"Enter humidity (%): \"))\n",
        "wind_speed = float(input(\"Enter wind speed (km/h): \"))\n",
        "\n",
        "# Calculate result using the quadratic model\n",
        "result = quadratic_weather_model(temperature, humidity, wind_speed)\n",
        "print(f\"Weather model result: {result}\")\n"
      ],
      "metadata": {
        "colab": {
          "base_uri": "https://localhost:8080/"
        },
        "id": "G-GHfkCU0Dbl",
        "outputId": "da81be6d-b743-47ca-8055-fae4f795dc3d"
      },
      "execution_count": 2,
      "outputs": [
        {
          "output_type": "stream",
          "name": "stdout",
          "text": [
            "Enter temperature (°C): 20\n",
            "Enter humidity (%): 7\n",
            "Enter wind speed (km/h): 5\n",
            "Weather model result: 7.2\n"
          ]
        }
      ]
    },
    {
      "cell_type": "code",
      "source": [
        "def quadratic_weather_model(temp, humidity, wind_speed):\n",
        "    # Example quadratic model\n",
        "    return 0.01 * temp**2 + 0.05 * humidity**2 + 0.03 * wind_speed**2\n",
        "\n",
        "# Reading data from a file\n",
        "with open(\"weather_data.txt\", \"r\") as file:\n",
        "    lines = file.readlines()\n",
        "\n",
        "for line in lines:\n",
        "    # Split values by commas and convert to floats\n",
        "    temp, humidity, wind_speed = map(float, line.strip().split(','))\n",
        "\n",
        "    # Calculate result using the quadratic model\n",
        "    result = quadratic_weather_model(temp, humidity, wind_speed)\n",
        "    print(f\"Weather model result for {temp}°C, {humidity}%, {wind_speed} km/h: {result}\")\n"
      ],
      "metadata": {
        "colab": {
          "base_uri": "https://localhost:8080/"
        },
        "id": "__x-jb5G0VIl",
        "outputId": "c1f0bd21-fbdf-47ef-a36e-d4272b21eba7"
      },
      "execution_count": 3,
      "outputs": [
        {
          "output_type": "stream",
          "name": "stdout",
          "text": [
            "Weather model result for 25.0°C, 60.0%, 15.0 km/h: 193.0\n",
            "Weather model result for 30.0°C, 55.0%, 20.0 km/h: 172.25\n",
            "Weather model result for 20.0°C, 65.0%, 10.0 km/h: 218.25\n"
          ]
        }
      ]
    },
    {
      "cell_type": "code",
      "source": [
        "def quadratic_weather_model(temp, humidity, wind_speed):\n",
        "    # Example quadratic model\n",
        "    return 0.01 * temp**2 + 0.05 * humidity**2 + 0.03 * wind_speed**2\n",
        "\n",
        "def process_single_input():\n",
        "    # Accepting user input for a single set\n",
        "    temperature = float(input(\"Enter temperature (°C): \"))\n",
        "    humidity = float(input(\"Enter humidity (%): \"))\n",
        "    wind_speed = float(input(\"Enter wind speed (km/h): \"))\n",
        "\n",
        "    # Calculate result using the quadratic model\n",
        "    result = quadratic_weather_model(temperature, humidity, wind_speed)\n",
        "    print(f\"Weather model result: {result}\")\n",
        "\n",
        "# Process a single set of inputs\n",
        "process_single_input()\n"
      ],
      "metadata": {
        "colab": {
          "base_uri": "https://localhost:8080/"
        },
        "id": "BFFqp3S-2ANE",
        "outputId": "bd4569dd-6125-46f0-a402-9442ad8bccc7"
      },
      "execution_count": 4,
      "outputs": [
        {
          "output_type": "stream",
          "name": "stdout",
          "text": [
            "Enter temperature (°C): 28\n",
            "Enter humidity (%): 8\n",
            "Enter wind speed (km/h): 4\n",
            "Weather model result: 11.52\n"
          ]
        }
      ]
    },
    {
      "cell_type": "code",
      "source": [
        "def quadratic_weather_model(temp, humidity, wind_speed):\n",
        "    # Example quadratic model\n",
        "    return 0.01 * temp**2 + 0.05 * humidity**2 + 0.03 * wind_speed**2\n",
        "\n",
        "def process_multiple_inputs():\n",
        "    # Accepting multiple sets of inputs\n",
        "    while True:\n",
        "        # Accepting user input for a set of variables\n",
        "        temperature = float(input(\"Enter temperature (°C), or type 'exit' to quit: \"))\n",
        "        humidity = float(input(\"Enter humidity (%): \"))\n",
        "        wind_speed = float(input(\"Enter wind speed (km/h): \"))\n",
        "\n",
        "        # Calculate result using the quadratic model\n",
        "        result = quadratic_weather_model(temperature, humidity, wind_speed)\n",
        "        print(f\"Weather model result: {result}\")\n",
        "\n",
        "        # Ask if the user wants to continue or quit\n",
        "        continue_input = input(\"Do you want to enter another set of values? (y/n): \")\n",
        "        if continue_input.lower() != 'y':\n",
        "            break\n",
        "\n",
        "# Process multiple sets of inputs\n",
        "process_multiple_inputs()\n"
      ],
      "metadata": {
        "colab": {
          "base_uri": "https://localhost:8080/"
        },
        "id": "GOCV_h4724_y",
        "outputId": "f343a90e-8c8a-4a22-88cd-5e4abb5db19a"
      },
      "execution_count": 7,
      "outputs": [
        {
          "name": "stdout",
          "output_type": "stream",
          "text": [
            "Enter temperature (°C), or type 'exit' to quit: 30\n",
            "Enter humidity (%): 7\n",
            "Enter wind speed (km/h): 3\n",
            "Weather model result: 11.719999999999999\n",
            "Do you want to enter another set of values? (y/n): y\n",
            "Enter temperature (°C), or type 'exit' to quit: 21\n",
            "Enter humidity (%): 4\n",
            "Enter wind speed (km/h): 2\n",
            "Weather model result: 5.33\n",
            "Do you want to enter another set of values? (y/n): n\n"
          ]
        }
      ]
    }
  ]
}